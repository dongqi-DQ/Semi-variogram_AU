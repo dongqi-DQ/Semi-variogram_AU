{
 "cells": [
  {
   "cell_type": "code",
   "execution_count": 1,
   "id": "12a095c1-f753-4664-a500-436bb2051b6c",
   "metadata": {},
   "outputs": [],
   "source": [
    "import xarray as xr\n",
    "import numpy as np\n",
    "import os\n",
    "from glob import glob\n",
    "from tqdm import tqdm\n",
    "import pandas as pd\n",
    "import math\n",
    "from multiprocess import Pool\n",
    "import warnings\n",
    "\n",
    "# Suppress all warnings\n",
    "warnings.filterwarnings('ignore', category=FutureWarning)\n",
    "## my own directory\n",
    "os.chdir(\"/g/data/k10/dl6968/Semi-variogram_AU/\")"
   ]
  },
  {
   "cell_type": "code",
   "execution_count": 2,
   "id": "c2051083-671d-4b53-a844-6c5a63ffcc9b",
   "metadata": {},
   "outputs": [],
   "source": [
    "## daily\n",
    "df = pd.read_csv(\"./data/BoM_daily_stations_500km.csv\")\n",
    "## mannually remove some faulty stations\n",
    "df = df[(df['ID'] != 40592) & (df['ID'] != 40593) & (df['ID'] != 58090) & (df[\"End_Year\"]>=1960)]\n",
    "daily_lat = []\n",
    "daily_lon = []\n",
    "for i in range(0, len(df)):\n",
    "    daily_lat.append(df[\"Latitude\"].iloc[i])\n",
    "    daily_lon.append(df[\"Longitude\"].iloc[i])"
   ]
  },
  {
   "cell_type": "code",
   "execution_count": 3,
   "id": "26efea0e-545a-4a7b-b85f-7d0e7a124703",
   "metadata": {},
   "outputs": [],
   "source": [
    "percentile = 0.90"
   ]
  },
  {
   "cell_type": "markdown",
   "id": "94f9194d-0049-408d-aaa1-b8cf5df92c2f",
   "metadata": {},
   "source": [
    "## make a dataset for percentile first"
   ]
  },
  {
   "cell_type": "code",
   "execution_count": 4,
   "id": "e5efb7ba-186a-4e05-a20c-86f141d9f766",
   "metadata": {},
   "outputs": [
    {
     "name": "stderr",
     "output_type": "stream",
     "text": [
      "100%|██████████| 9835/9835 [12:20<00:00, 13.29it/s]  \n"
     ]
    }
   ],
   "source": [
    "# Dictionary to store 90th percentile values for each month\n",
    "stn_bom_p90 = {\"ID\": [], \"DJF\": [], \"MAM\": [], \"JJA\": [], \"SON\": []}\n",
    "\n",
    "faulty_stn = []\n",
    "\n",
    "for stn_id in tqdm(df[\"ID\"], leave=True, position=0):\n",
    "    bom_id = str(stn_id).zfill(6)\n",
    "    \n",
    "    try:\n",
    "        ds = xr.open_dataset(f\"/g/data/k10/dl6968/BoM_daily_station/prcp_pc_ts_qc/{bom_id}.nc\")\n",
    "    except:\n",
    "        faulty_stn.append(stn_id)\n",
    "        continue\n",
    "    \n",
    "    precip = ds[\"prcp\"].sel(time=slice(\"1940-03-02\", \"2024-06-30\"))\n",
    "    \n",
    "    # Filter rainy days (precip > 1 mm)\n",
    "    rainy_days = precip.where(precip > 1, drop=True)\n",
    "    \n",
    "    # If there are no rainy days, store -1 for all months\n",
    "    if len(rainy_days) == 0:\n",
    "        stn_bom_p90[\"ID\"].append(stn_id)\n",
    "        for month in [\"DJF\", \"MAM\", \"JJA\", \"SON\"]:\n",
    "            stn_bom_p90[month].append(-1)\n",
    "    else:\n",
    "        stn_bom_p90[\"ID\"].append(stn_id)\n",
    "        p90_season = rainy_days.groupby('time.season').quantile(percentile, dim='time', skipna=True)\n",
    "        # Store results for each month\n",
    "        for season_num, season_name in enumerate([\"DJF\", \"MAM\", \"JJA\", \"SON\"], start=1):\n",
    "            try:\n",
    "                stn_bom_p90[season_name].append(p90_season.sel(season=season_name).values)\n",
    "            except:\n",
    "                stn_bom_p90[season_name].append(-1)\n",
    "\n",
    "    ds.close()\n"
   ]
  },
  {
   "cell_type": "code",
   "execution_count": 5,
   "id": "f51db57a-31b2-43a5-bd47-c8423d40e140",
   "metadata": {},
   "outputs": [],
   "source": [
    "df_p90 = pd.DataFrame.from_dict(stn_bom_p90)"
   ]
  },
  {
   "cell_type": "code",
   "execution_count": 6,
   "id": "a8a429fb-3a67-4300-a818-0119d5158c38",
   "metadata": {},
   "outputs": [],
   "source": [
    "df_p90.to_csv(\"./data/BoM_stn_p90_seasonally.csv\")"
   ]
  },
  {
   "cell_type": "code",
   "execution_count": null,
   "id": "32d064c3-85f3-4d83-b8a7-57fbb938c4ed",
   "metadata": {},
   "outputs": [],
   "source": []
  }
 ],
 "metadata": {
  "kernelspec": {
   "display_name": "Python [conda env:myenv]",
   "language": "python",
   "name": "conda-env-myenv-py"
  },
  "language_info": {
   "codemirror_mode": {
    "name": "ipython",
    "version": 3
   },
   "file_extension": ".py",
   "mimetype": "text/x-python",
   "name": "python",
   "nbconvert_exporter": "python",
   "pygments_lexer": "ipython3",
   "version": "3.9.7"
  }
 },
 "nbformat": 4,
 "nbformat_minor": 5
}
