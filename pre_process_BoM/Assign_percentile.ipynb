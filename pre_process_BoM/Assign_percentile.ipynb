{
 "cells": [
  {
   "cell_type": "code",
   "execution_count": 1,
   "id": "56f2fd02-dbcc-4223-b97c-c817108c8c94",
   "metadata": {},
   "outputs": [],
   "source": [
    "import numpy as np\n",
    "from scipy.stats import rankdata\n",
    "import xarray as xr\n",
    "from glob import glob\n",
    "from tqdm import tqdm\n",
    "import pandas as pd\n",
    "from multiprocess import Pool\n",
    "from datetime import datetime, timezone\n",
    "from zoneinfo import ZoneInfo # Python 3.9\n",
    "# from tzwhere import tzwhere\n",
    "import pytz\n",
    "import warnings\n",
    "warnings.filterwarnings('ignore')"
   ]
  },
  {
   "cell_type": "code",
   "execution_count": 2,
   "id": "36cc4e29-bf37-4976-b647-9ce23968a9c6",
   "metadata": {},
   "outputs": [],
   "source": [
    "def lat_lon_tz(lat,lon):\n",
    "    tz = tzwhere.tzwhere()\n",
    "    timezone_str = tz.tzNameAt(lat, lon,forceTZ=True) \n",
    "    LocalZone = ZoneInfo(timezone_str)\n",
    "    return LocalZone\n",
    "\n",
    "def local_to_utc(local_time, local_tz, dt_format = \"%Y-%m-%d %H:%M:%S\"):\n",
    "    ## first convert strings to datetime\n",
    "    Local = [datetime.strptime(s, dt_format).replace(tzinfo=local_tz) for s in local_time]\n",
    "    UTC = [dt.astimezone(timezone.utc) for dt in Local]\n",
    "    return UTC\n",
    "\n",
    "def find_aus_tz(state):\n",
    "    state = state.replace(\" \", \"\")\n",
    "    if state==\"WA\" or state==\"Western Australia\":\n",
    "        tz_string = \"Australia/West\"\n",
    "    elif state==\"SA\" or state==\"South Australia\":\n",
    "        tz_string = \"Australia/South\"\n",
    "    elif state == \"VIC\" or state==\"Victoria\":\n",
    "        tz_string = \"Australia/Victoria\"\n",
    "    elif state == \"TAS\" or state==\"Tasmania\":\n",
    "        tz_string = \"Australia/Tasmania\" \n",
    "    elif state == \"ANT\" or state==\"Antarctica\":\n",
    "        tz_string = \"Antarctica/McMurdo\"  \n",
    "    elif state == \"NSW\" or state==\"New South Wales\" or state==\"Australian Capital Territory\" or state==\"ACT\":\n",
    "        tz_string = \"Australia/NSW\"\n",
    "    elif state == \"QLD\" or state==\"Queensland\":\n",
    "        tz_string = \"Australia/Queensland\"\n",
    "    elif state == \"NT\" or state==\"Northern Territory\":\n",
    "        tz_string = \"Australia/North\"\n",
    "    else:\n",
    "        print(\"wrong state\")\n",
    "    LocalZone = ZoneInfo(tz_string)\n",
    "    return LocalZone"
   ]
  },
  {
   "cell_type": "code",
   "execution_count": 3,
   "id": "081e8065-93a5-4b90-8b8a-104ae1c645fb",
   "metadata": {},
   "outputs": [],
   "source": [
    "files = sorted(glob(\"/g/data/w40/dl6968/BoM_daily_stations/netcdf/*.nc\"))"
   ]
  },
  {
   "cell_type": "code",
   "execution_count": 4,
   "id": "40f0fa3e-be83-4d70-8f43-11c31a47751c",
   "metadata": {},
   "outputs": [],
   "source": [
    "timestamps = pd.date_range(start=\"1940-03-02\", end=\"2024-06-30\", freq=\"D\")\n",
    "full_time_range = timestamps + pd.to_timedelta(9, unit=\"h\")"
   ]
  },
  {
   "cell_type": "code",
   "execution_count": 5,
   "id": "35164f31-4968-4d9d-9e66-5d1f39e1d263",
   "metadata": {},
   "outputs": [],
   "source": [
    "def percentile_nc(file):\n",
    "    ds = xr.open_dataset(file)\n",
    "    ds_clip = ds.sel(time=slice(\"1940-03-02\", \"2024-06-30\"))\n",
    "    state = ds.attrs[\"State\"]\n",
    "    local_tz = find_aus_tz(state)\n",
    "    full_time_range = timestamps + pd.to_timedelta(9, unit=\"h\")\n",
    "    local_time = full_time_range.astype(str)\n",
    "    utc_time = local_to_utc(local_time, local_tz)\n",
    "    out_time = [np.datetime64(utc_ts) for utc_ts in utc_time]\n",
    "    # Set the hour for each timestamp\n",
    "    \n",
    "    \n",
    "    ds_sel = ds_clip[\"prcp\"].reindex(time=out_time, fill_value=-1).to_dataset(name=\"prcp\")\n",
    "    rain = ds_sel[\"prcp\"].fillna(-1)\n",
    "    # Calculate percentile rank for each record\n",
    "    ## all days (including no rain day)\n",
    "    # percentile_ranks = rankdata(rain, method='average') / len(rain) * 100\n",
    "    ## rainy days only\n",
    "    # Mask rain rates ≤ 1 mm\n",
    "    mask = rain > 1\n",
    "    \n",
    "    # Calculate percentile ranks only for valid days (rain > 1 mm)\n",
    "    valid_rain = rain.where(mask, drop=True)  # Select days with rain > 1 mm\n",
    "    valid_ranks = rankdata(valid_rain, method='average') / len(valid_rain) * 100\n",
    "    \n",
    "    # Reintroduce zeros for days with rain ≤ 1 mm\n",
    "    percentile_ranks = xr.full_like(rain, 0, dtype=float)  # Create an array of zeros\n",
    "    # percentile_ranks = percentile_ranks.where(mask, 0)  # Keep zeros for invalid days\n",
    "    percentile_ranks = percentile_ranks.where(~mask, 0)  # Insert ranks for valid days\n",
    "    \n",
    "    # Convert to DataArray with time coordinate\n",
    "    percentile_ranks = xr.DataArray(percentile_ranks, coords=rain.coords, dims=rain.dims)\n",
    "    \n",
    "    ## make ranks an xarray\n",
    "    ranks_xr = xr.DataArray(valid_ranks, coords=valid_rain.coords, dims=valid_rain.dims)\n",
    "    \n",
    "    ## replace the values \n",
    "    percentile_ranks.loc[ranks_xr.time] = ranks_xr\n",
    "    ds_pc = percentile_ranks.to_dataset(name=\"percentile\")\n",
    "    ds_pc.attrs[\"Description\"] = \"Percentile for rain rate >1 between 1940-03-01 and 2024-06-01\"\n",
    "    ds_pc[\"prcp\"] = rain\n",
    "    ds_pc.to_netcdf(file.replace(\"netcdf\", \"percentiles\"))\n",
    "    ds_pc.close()\n",
    "    ds_sel.close()\n",
    "    ds_clip.close()\n",
    "    ds.close()"
   ]
  },
  {
   "cell_type": "code",
   "execution_count": 7,
   "id": "7f1d2f7b-b222-4fec-aa32-56cdff4d8518",
   "metadata": {},
   "outputs": [
    {
     "name": "stderr",
     "output_type": "stream",
     "text": [
      "100%|██████████| 10388/10388 [04:05<00:00, 42.32it/s]\n"
     ]
    }
   ],
   "source": [
    "# use multiprocess  \n",
    "# max_pool means maximum CPU to use\n",
    "max_pool = 24\n",
    "\n",
    "with Pool(max_pool) as p:\n",
    "    pool_outputs = list(\n",
    "        tqdm(\n",
    "            p.imap(percentile_nc,\n",
    "                   files[7440:]),\n",
    "            total=len(files[7440:]),\n",
    "            position=0, leave=True\n",
    "        )\n",
    "    )\n",
    "p.join()"
   ]
  },
  {
   "cell_type": "code",
   "execution_count": null,
   "id": "f5632b60-56c5-4972-8c07-d41b9f048bdb",
   "metadata": {},
   "outputs": [],
   "source": []
  }
 ],
 "metadata": {
  "kernelspec": {
   "display_name": "Python [conda env:myenv]",
   "language": "python",
   "name": "conda-env-myenv-py"
  },
  "language_info": {
   "codemirror_mode": {
    "name": "ipython",
    "version": 3
   },
   "file_extension": ".py",
   "mimetype": "text/x-python",
   "name": "python",
   "nbconvert_exporter": "python",
   "pygments_lexer": "ipython3",
   "version": "3.9.7"
  }
 },
 "nbformat": 4,
 "nbformat_minor": 5
}
