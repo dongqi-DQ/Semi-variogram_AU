{
 "cells": [
  {
   "cell_type": "code",
   "execution_count": 1,
   "id": "96435d58-ab37-4f4a-89c0-4c46547a3904",
   "metadata": {},
   "outputs": [],
   "source": [
    "import pandas as pd\n",
    "import numpy as np\n",
    "import matplotlib.pyplot as plt\n",
    "import xarray as xr\n",
    "from multiprocess import Pool\n",
    "from tqdm import tqdm\n",
    "import requests\n",
    "import urllib.request\n",
    "from glob import glob\n",
    "import os\n",
    "import time"
   ]
  },
  {
   "cell_type": "code",
   "execution_count": 2,
   "id": "33c507de-4fe5-4953-913d-e6af4a1c9a81",
   "metadata": {},
   "outputs": [],
   "source": [
    "## my own directory\n",
    "os.chdir(\"/g/data/k10/dl6968/Semi-variogram_AU/\")"
   ]
  },
  {
   "cell_type": "code",
   "execution_count": 3,
   "id": "7f179f3f-7707-4df9-b8dd-69086333cebf",
   "metadata": {},
   "outputs": [],
   "source": [
    "def scraper_daily(bom_id, obs_code, start_year=1800):\n",
    "    # Replace with your URL\n",
    "    url = f'http://www.bom.gov.au/jsp/ncc/cdio/weatherData/av?p_stn_num={bom_id}&p_display_type=availableYears&p_nccObsCode={obs_code}'\n",
    "    \n",
    "    \n",
    "    # Add headers to mimic a browser\n",
    "    headers = {\n",
    "        'User-Agent': 'Mozilla/5.0 (Windows NT 10.0; Win64; x64) AppleWebKit/537.36 (KHTML, like Gecko) Chrome/87.0.4280.88 Safari/537.36'\n",
    "    }\n",
    "    \n",
    "    try:\n",
    "        response = requests.get(url, headers=headers)\n",
    "        response.raise_for_status()  # Check if the request was successful\n",
    "        \n",
    "        # Assuming the URL gives you a single line of text\n",
    "        text_line = response.text.strip()\n",
    "        # print(text_line)\n",
    "    \n",
    "    except requests.exceptions.RequestException as e:\n",
    "        print(f\"An error occurred: {e}\")\n",
    "    \n",
    "    pc_idx = text_line.rfind(\":\")\n",
    "    p_c = text_line[pc_idx+1:].strip()\n",
    "    \n",
    "    ## combine as url\n",
    "    \n",
    "    bom_url = f\"http://www.bom.gov.au/jsp/ncc/cdio/weatherData/av?p_display_type=dailyZippedDataFile&p_stn_num={bom_id}&p_nccObsCode={obs_code}&p_c={p_c}&p_startYear={start_year}\"\n",
    "    ### download zip files\n",
    "    opener = urllib.request.URLopener()\n",
    "    opener.addheader('User-Agent', 'whatever')\n",
    "    filename, headers = opener.retrieve(bom_url, f'{out_path}{station_id}.zip')"
   ]
  },
  {
   "cell_type": "code",
   "execution_count": 4,
   "id": "9a523076-3e64-4d20-beb1-3730a38797a9",
   "metadata": {},
   "outputs": [],
   "source": [
    "\n",
    "# Define an empty list to store rows\n",
    "data = []\n",
    "\n",
    "# Read the file line by line\n",
    "with open('./data/BoM_daily_station_list.txt', 'r') as file:\n",
    "    for i, line in enumerate(file):\n",
    "        # Extract columns using slicing or custom splitting\n",
    "        ID = line[0:7].strip()\n",
    "        Location = line[8:38].strip()\n",
    "        Latitude = float(line[49:59].strip())\n",
    "        Longitude = float(line[59:67].strip())\n",
    "        Start_Month = line[67:71].strip()\n",
    "        Start_Year = line[71:77].strip()\n",
    "        End_Month = line[77:81].strip()\n",
    "        End_Year = line[81:85].strip()\n",
    "        Value1 = float(line[86:94].strip())\n",
    "        Value2 = int(line[95:99].strip())\n",
    "        Code = line[100:101].strip()\n",
    "        \n",
    "        # Append the parsed row to the data list\n",
    "        data.append([ID, Location, Latitude, Longitude, Start_Month, Start_Year,\n",
    "                     End_Month, End_Year, Value1, Value2, Code])\n",
    "\n",
    "# Convert to DataFrame\n",
    "df = pd.DataFrame(data, columns=['ID', 'Location', 'Latitude', 'Longitude', 'Start_Month', 'Start_Year',\n",
    "                                 'End_Month',  'End_Year', 'Years', 'Percent', 'Code'])\n",
    "\n"
   ]
  },
  {
   "cell_type": "code",
   "execution_count": 5,
   "id": "4fe23645-5e68-4d7e-ab88-3c851036c6f4",
   "metadata": {},
   "outputs": [],
   "source": [
    "df.to_csv(\"./data/BoM_daily_stations.csv\")"
   ]
  },
  {
   "cell_type": "code",
   "execution_count": 6,
   "id": "9350eecf-ae6e-4f72-806b-89e6f5c8c85d",
   "metadata": {},
   "outputs": [],
   "source": [
    "## this is NCI directory\n",
    "out_path = \"/g/data/w40/dl6968/BoM_daily_stations/\""
   ]
  },
  {
   "cell_type": "code",
   "execution_count": 7,
   "id": "689358a1-d741-4999-94b6-70b94f649eea",
   "metadata": {},
   "outputs": [
    {
     "name": "stderr",
     "output_type": "stream",
     "text": [
      "/jobfs/127143431.gadi-pbs/ipykernel_2076892/2732621276.py:4: DeprecationWarning: URLopener style of invoking requests is deprecated. Use newer urlopen functions/methods\n",
      "  scraper_daily(bom_id, obs_code, start_year)\n"
     ]
    }
   ],
   "source": [
    "obs_code = 136\n",
    "station_id = 40592\n",
    "start_year = df[\"Start_Year\"].iloc[i] \n",
    "bom_id = str(station_id).zfill(6)\n",
    "scraper_daily(bom_id, obs_code, start_year)"
   ]
  },
  {
   "cell_type": "code",
   "execution_count": 13,
   "id": "0a3c67f5-c588-4d30-8fde-fbadb67b32c3",
   "metadata": {},
   "outputs": [
    {
     "name": "stderr",
     "output_type": "stream",
     "text": [
      "  0%|          | 0/571 [00:00<?, ?it/s]/jobfs/126953221.gadi-pbs/ipykernel_600280/1535862699.py:5: DeprecationWarning: URLopener style of invoking requests is deprecated. Use newer urlopen functions/methods\n",
      "  scraper_daily(bom_id, obs_code, start_year)\n",
      "100%|██████████| 571/571 [13:26<00:00,  1.41s/it]\n"
     ]
    }
   ],
   "source": [
    "for i in tqdm(range(17364,len(df[\"ID\"])), position=0, leave=True):\n",
    "    station_id = df[\"ID\"].iloc[i]\n",
    "    start_year = df[\"Start_Year\"].iloc[i] \n",
    "    bom_id = str(station_id).zfill(6)\n",
    "    scraper_daily(bom_id, obs_code, start_year)\n",
    "    \n",
    "    time.sleep(np.random.random(1)[0])"
   ]
  },
  {
   "cell_type": "code",
   "execution_count": 14,
   "id": "66a1e73b-e5b1-4d92-8029-29125f535099",
   "metadata": {},
   "outputs": [],
   "source": [
    "other_stations = []\n",
    "for i in range(0,len(df[\"ID\"])):\n",
    "    station_id = df[\"ID\"].iloc[i]\n",
    "    out_file = f'{out_path}{station_id}.zip'\n",
    "    if not os.path.exists(out_file):\n",
    "        other_stations.append(station_id)"
   ]
  },
  {
   "cell_type": "code",
   "execution_count": 15,
   "id": "4225fda7-6665-4ac0-916d-05b1acc30bb6",
   "metadata": {},
   "outputs": [
    {
     "data": {
      "text/plain": [
       "['6053']"
      ]
     },
     "execution_count": 15,
     "metadata": {},
     "output_type": "execute_result"
    }
   ],
   "source": [
    "other_stations"
   ]
  },
  {
   "cell_type": "code",
   "execution_count": 16,
   "id": "daebd8c5-20da-40a9-8797-7755399ad13d",
   "metadata": {},
   "outputs": [
    {
     "name": "stderr",
     "output_type": "stream",
     "text": [
      "/jobfs/126953221.gadi-pbs/ipykernel_600280/90614768.py:4: DeprecationWarning: URLopener style of invoking requests is deprecated. Use newer urlopen functions/methods\n",
      "  scraper_daily(bom_id, obs_code, start_year)\n"
     ]
    }
   ],
   "source": [
    "station_id=6053\n",
    "start_year=1909\n",
    "bom_id = str(station_id).zfill(6)\n",
    "scraper_daily(bom_id, obs_code, start_year)"
   ]
  },
  {
   "cell_type": "code",
   "execution_count": null,
   "id": "f930544e-47a0-4152-b8fc-a6558b58891d",
   "metadata": {},
   "outputs": [],
   "source": []
  }
 ],
 "metadata": {
  "kernelspec": {
   "display_name": "Python [conda env:myenv]",
   "language": "python",
   "name": "conda-env-myenv-py"
  },
  "language_info": {
   "codemirror_mode": {
    "name": "ipython",
    "version": 3
   },
   "file_extension": ".py",
   "mimetype": "text/x-python",
   "name": "python",
   "nbconvert_exporter": "python",
   "pygments_lexer": "ipython3",
   "version": "3.9.7"
  }
 },
 "nbformat": 4,
 "nbformat_minor": 5
}
