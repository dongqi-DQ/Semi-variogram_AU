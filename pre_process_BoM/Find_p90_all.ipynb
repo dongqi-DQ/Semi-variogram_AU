{
 "cells": [
  {
   "cell_type": "code",
   "execution_count": 1,
   "id": "12a095c1-f753-4664-a500-436bb2051b6c",
   "metadata": {},
   "outputs": [],
   "source": [
    "import xarray as xr\n",
    "import numpy as np\n",
    "import os\n",
    "from glob import glob\n",
    "from tqdm import tqdm\n",
    "import pandas as pd\n",
    "import math\n",
    "from multiprocess import Pool\n",
    "\n",
    "## my own directory\n",
    "os.chdir(\"/g/data/k10/dl6968/Semi-variogram_AU/\")"
   ]
  },
  {
   "cell_type": "code",
   "execution_count": 2,
   "id": "c2051083-671d-4b53-a844-6c5a63ffcc9b",
   "metadata": {},
   "outputs": [],
   "source": [
    "## daily\n",
    "df = pd.read_csv(\"./data/BoM_daily_stations.csv\")\n",
    "## mannually remove some faulty stations\n",
    "df = df[(df['ID'] != 40592) & (df['ID'] != 40593) & (df['ID'] != 58090) & (df[\"End_Year\"]>=1960)]\n",
    "daily_lat = []\n",
    "daily_lon = []\n",
    "for i in range(0, len(df)):\n",
    "    daily_lat.append(df[\"Latitude\"].iloc[i])\n",
    "    daily_lon.append(df[\"Longitude\"].iloc[i])"
   ]
  },
  {
   "cell_type": "code",
   "execution_count": 3,
   "id": "fce1482a-52e0-4f0e-9709-8e42d678654f",
   "metadata": {},
   "outputs": [],
   "source": [
    "## for stations to be a neighbour station\n",
    "df_neighbour = df[df[\"Years\"] >=10]\n",
    "## for stations to be a spec station\n",
    "df_spec = df[df[\"Years\"] >=20]"
   ]
  },
  {
   "cell_type": "code",
   "execution_count": 4,
   "id": "26efea0e-545a-4a7b-b85f-7d0e7a124703",
   "metadata": {},
   "outputs": [],
   "source": [
    "percentile = 0.90"
   ]
  },
  {
   "cell_type": "markdown",
   "id": "94f9194d-0049-408d-aaa1-b8cf5df92c2f",
   "metadata": {},
   "source": [
    "## make a dataset for percentile first"
   ]
  },
  {
   "cell_type": "code",
   "execution_count": 5,
   "id": "e5efb7ba-186a-4e05-a20c-86f141d9f766",
   "metadata": {},
   "outputs": [
    {
     "name": "stderr",
     "output_type": "stream",
     "text": [
      "100%|██████████| 11800/11800 [13:05<00:00, 15.02it/s]\n"
     ]
    }
   ],
   "source": [
    "stn_bom_p90 = {}\n",
    "faulty_stn = []\n",
    "for stn_id in tqdm(df_neighbour[\"ID\"],leave=True, position=0):\n",
    "    bom_id = str(stn_id).zfill(6)\n",
    "    try:\n",
    "        ds = xr.open_dataset(f\"/g/data/w40/dl6968/BoM_daily_stations/netcdf/{bom_id}.nc\")\n",
    "    except:\n",
    "        faulty_stn.append(stn_id)\n",
    "        continue\n",
    "        \n",
    "    precip_da = ds[\"prcp\"].sel(time=slice(\"1940-03-02\", \"2024-06-30\"))\n",
    "    filtered_da = precip_da.where(precip_da > 1, drop=True)\n",
    "    if len(filtered_da)==0:\n",
    "        stn_bom_p90[str(stn_id)] = -1\n",
    "    else:\n",
    "        p90 = filtered_da.quantile(percentile, dim='time')\n",
    "        stn_bom_p90[str(stn_id)] = p90.values\n",
    "    ds.close()"
   ]
  },
  {
   "cell_type": "code",
   "execution_count": 6,
   "id": "f51db57a-31b2-43a5-bd47-c8423d40e140",
   "metadata": {},
   "outputs": [],
   "source": [
    "p90_list = []\n",
    "stn_list = []\n",
    "for keys in stn_bom_p90.keys():\n",
    "    stn_list.append(int(keys))\n",
    "    p90_list.append(float(stn_bom_p90[keys]))"
   ]
  },
  {
   "cell_type": "code",
   "execution_count": 7,
   "id": "55a88bb1-a4ac-400b-a0d1-a72ea62fcd56",
   "metadata": {},
   "outputs": [],
   "source": [
    "df_p90 = pd.DataFrame.from_dict({\"ID\": stn_list,\"P90\":p90_list})"
   ]
  },
  {
   "cell_type": "code",
   "execution_count": 8,
   "id": "a8a429fb-3a67-4300-a818-0119d5158c38",
   "metadata": {},
   "outputs": [],
   "source": [
    "df_p90.to_csv(\"./data/BoM_stn_p90.csv\")"
   ]
  }
 ],
 "metadata": {
  "kernelspec": {
   "display_name": "Python [conda env:myenv]",
   "language": "python",
   "name": "conda-env-myenv-py"
  },
  "language_info": {
   "codemirror_mode": {
    "name": "ipython",
    "version": 3
   },
   "file_extension": ".py",
   "mimetype": "text/x-python",
   "name": "python",
   "nbconvert_exporter": "python",
   "pygments_lexer": "ipython3",
   "version": "3.9.7"
  }
 },
 "nbformat": 4,
 "nbformat_minor": 5
}
