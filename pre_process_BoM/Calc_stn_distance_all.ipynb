{
 "cells": [
  {
   "cell_type": "code",
   "execution_count": 1,
   "id": "851797bc-cb51-4486-98d3-6627364f83dc",
   "metadata": {},
   "outputs": [],
   "source": [
    "import numpy as np\n",
    "import pandas as pd\n",
    "from sklearn.metrics.pairwise import haversine_distances\n",
    "from math import radians"
   ]
  },
  {
   "cell_type": "code",
   "execution_count": 2,
   "id": "3cda830c-1c27-47c3-9c46-fb15eb707030",
   "metadata": {},
   "outputs": [],
   "source": [
    "import os\n",
    "## my own directory\n",
    "os.chdir(\"/g/data/k10/dl6968/Semi-variogram_AU/\")\n"
   ]
  },
  {
   "cell_type": "code",
   "execution_count": 6,
   "id": "916805a0-115c-496a-8486-fda65331d12b",
   "metadata": {},
   "outputs": [],
   "source": [
    "df_stations = pd.read_csv(\"./data/BoM_daily_stations.csv\")"
   ]
  },
  {
   "cell_type": "code",
   "execution_count": 7,
   "id": "b7f54afa-aa6b-4e7b-a906-605afb8ef63d",
   "metadata": {},
   "outputs": [],
   "source": [
    "# Function to calculate pairwise distances\n",
    "def calculate_pairwise_distances(df):\n",
    "    coords = df[['Latitude', 'Longitude']].applymap(radians).values  # Convert to radians for haversine\n",
    "    distances = haversine_distances(coords) * 6371  # Earth radius in km\n",
    "    return distances\n",
    "# \n",
    "# Calculate pairwise distances\n",
    "distances = calculate_pairwise_distances(df_stations)\n",
    "\n",
    "# Create a DataFrame to store the distances\n",
    "station_ids = df_stations['ID'].values\n",
    "distances_df = pd.DataFrame(distances, index=station_ids, columns=station_ids)\n"
   ]
  },
  {
   "cell_type": "code",
   "execution_count": null,
   "id": "ea8f33c2-c83a-495e-bca4-30dcd9d23636",
   "metadata": {},
   "outputs": [],
   "source": [
    "# Save the distances to a CSV file\n",
    "distances_df.to_csv('./data/pairwise_distances.csv')"
   ]
  },
  {
   "cell_type": "code",
   "execution_count": null,
   "id": "e7731d91-c60e-41d1-9e8a-d8455e6b5a65",
   "metadata": {},
   "outputs": [],
   "source": []
  }
 ],
 "metadata": {
  "kernelspec": {
   "display_name": "Python [conda env:myenv]",
   "language": "python",
   "name": "conda-env-myenv-py"
  },
  "language_info": {
   "codemirror_mode": {
    "name": "ipython",
    "version": 3
   },
   "file_extension": ".py",
   "mimetype": "text/x-python",
   "name": "python",
   "nbconvert_exporter": "python",
   "pygments_lexer": "ipython3",
   "version": "3.9.7"
  }
 },
 "nbformat": 4,
 "nbformat_minor": 5
}
