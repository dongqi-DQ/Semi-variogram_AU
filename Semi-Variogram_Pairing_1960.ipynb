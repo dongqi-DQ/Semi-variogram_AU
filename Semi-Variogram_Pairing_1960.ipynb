{
 "cells": [
  {
   "cell_type": "code",
   "execution_count": 1,
   "id": "da1ba636-485e-4743-8d7c-70f48e5c90d8",
   "metadata": {},
   "outputs": [],
   "source": [
    "import xarray as xr\n",
    "import numpy as np\n",
    "import os\n",
    "from glob import glob\n",
    "from tqdm import tqdm\n",
    "import pandas as pd\n",
    "from geopy.distance import geodesic \n",
    "import math\n",
    "from sklearn.metrics.pairwise import haversine_distances\n",
    "from math import radians\n",
    "from multiprocess import Pool\n",
    "import warnings\n",
    "from IPython.display import clear_output\n",
    "import warnings\n",
    "\n",
    "# Suppress all warnings\n",
    "warnings.filterwarnings('ignore', category=FutureWarning)"
   ]
  },
  {
   "cell_type": "code",
   "execution_count": 2,
   "id": "4510116d-bfa0-4d9d-a012-249165b6ceef",
   "metadata": {},
   "outputs": [],
   "source": [
    "def calc_ratio_gamma(N11,N10):\n",
    "    with warnings.catch_warnings():\n",
    "        warnings.filterwarnings(\"ignore\", category=RuntimeWarning)\n",
    "        ratio = np.where(N10 + N11 != 0, 0.5 * (N10 / (N10 + N11)), np.nan)\n",
    "    return ratio\n",
    "\n",
    "# Function to get pairwise distances\n",
    "# including the station at the centre\n",
    "def get_pairwise_distances(df):\n",
    "    spec_stn = df[\"Spec_stn\"].iloc[0]\n",
    "    stn_list = df[\"Neighb_stn\"].values\n",
    "    stn_list = np.append(spec_stn, stn_list)\n",
    "    stn_str = [str(ids) for ids in stn_list]\n",
    "    distances =  df_dist.loc[stn_list, stn_str].values\n",
    "\n",
    "    return distances\n",
    "\n",
    "def calculate_moving_pairs(args):\n",
    "    df_nb, bins, days = args\n",
    "    df = df_nb[df_nb['distance']<=500]\n",
    "    if len(df[df[\"val\"]>=0]) == 0:\n",
    "        N11 = np.zeros_like(bins)\n",
    "        N10 = np.zeros_like(bins)\n",
    "        return N11, N10\n",
    "    else:\n",
    "        ## must have more than 10% stations had extremes\n",
    "        if df[\"flag\"].max() <=0 or len(df[df[\"flag\"]>0])/len(df[df[\"val\"]>=0])<0.1 or len(df)<20:\n",
    "            N11 = np.zeros_like(bins)\n",
    "            N10 = np.zeros_like(bins)\n",
    "            return N11, N10\n",
    "        else: \n",
    "            # Append the center station's flag\n",
    "            in_out_arr = np.append(1, np.where(df_nb['distance'] > 500, 0, 1))\n",
    "           \n",
    "            ## inside is 1\n",
    "            ## outside is 0\n",
    "            pairwise_sums = in_out_arr[:, None] + in_out_arr[None, :]\n",
    "            distances = get_pairwise_distances(df_nb)\n",
    "            n = len(df_nb) + 1  # Include the station at the neighborhood center\n",
    "            extreme = np.append(1, df_nb['flag'].values)  # Append the center station's flag\n",
    "            extreme[extreme>0]=1\n",
    "            pairwise_extreme = extreme[:, None] + extreme[None, :]\n",
    "            \n",
    "            # Initialize arrays for N11 and N10\n",
    "            N11 = np.zeros_like(bins, dtype=int)\n",
    "            N10 = np.zeros_like(bins, dtype=int)\n",
    "            \n",
    "            # Precompute bin indices for all pairs\n",
    "            bin_indices = np.digitize(distances, bins) - 1\n",
    "            \n",
    "            # Create masks for valid bin indices\n",
    "            valid_mask = (bin_indices >= 0) & (bin_indices < len(bins))\n",
    "            \n",
    "            # Create masks for 1-1 and 1-0 pairs\n",
    "            mask_11 = (pairwise_extreme==2) & (pairwise_sums>0)  # 1-1 pairs for at least one station inside\n",
    "            mask_10 = (pairwise_extreme==1) & (pairwise_sums>0)  # 1-0 pairs for at least one station inside\n",
    "            pair_mask = pairwise_sums>0\n",
    "            # Iterate over all bins\n",
    "            for bin_idx in range(len(bins)):\n",
    "                # Find pairs that fall into this bin\n",
    "                bin_mask = (bin_indices == bin_idx) & valid_mask\n",
    "            \n",
    "                # Count 1-1 and 1-0 pairs in this bin\n",
    "                N11[bin_idx] = np.sum(mask_11  & bin_mask) # & pair_mask\n",
    "                N10[bin_idx] = np.sum(mask_10 & bin_mask)\n",
    "            ## this is counted twice due to masking\n",
    "            return N11/2, N10/2"
   ]
  },
  {
   "cell_type": "code",
   "execution_count": 3,
   "id": "cc6cdd52-ee6a-4c15-9893-60658929b6ad",
   "metadata": {},
   "outputs": [],
   "source": [
    "## my own directory\n",
    "os.chdir(\"/g/data/k10/dl6968/Semi-variogram_AU/\")\n"
   ]
  },
  {
   "cell_type": "code",
   "execution_count": 4,
   "id": "e77acb86-72ef-4977-b576-1722d34faac9",
   "metadata": {},
   "outputs": [
    {
     "name": "stdout",
     "output_type": "stream",
     "text": [
      "CPU times: user 1min 57s, sys: 6.99 s, total: 2min 4s\n",
      "Wall time: 2min 5s\n"
     ]
    }
   ],
   "source": [
    "%%time\n",
    "df_dist = pd.read_csv(\"./data/pairwise_distances.csv\", index_col=0)\n"
   ]
  },
  {
   "cell_type": "code",
   "execution_count": 5,
   "id": "3c8f1c44-2ac0-4dc4-b351-43607a644432",
   "metadata": {},
   "outputs": [],
   "source": [
    "files = sorted(glob(\"./data/seasonal_p90_500km_1960/*_station_moving_list_all_events.csv\"))"
   ]
  },
  {
   "cell_type": "code",
   "execution_count": 6,
   "id": "7310ad7c-6fab-4ba8-a92c-62f5caf316f8",
   "metadata": {},
   "outputs": [],
   "source": [
    "# Define distance bins\n",
    "bins = np.arange(1,520,25)# np.arange(1, 1525, 25)\n"
   ]
  },
  {
   "cell_type": "code",
   "execution_count": null,
   "id": "1542454b-ba67-4081-b04f-95bb09361548",
   "metadata": {},
   "outputs": [
    {
     "name": "stderr",
     "output_type": "stream",
     "text": [
      "./data/seasonal_p90_500km_1960/10002_station_moving_list_all_events.csv: 100%|██████████| 286/286 [00:00<00:00, 327.07it/s]\n"
     ]
    }
   ],
   "source": [
    "max_pool = 28\n",
    "for file in files:\n",
    "    if not os.path.exists(file.replace(\"station\",\"pair_bins\")):\n",
    "        df_mv = pd.read_csv(file)\n",
    "        # df_in = df_mv[df_mv[\"distance\"]<=350]\n",
    "        args_list = [ (df_mv[df_mv[\"Day\"]==day], bins, day) for day in np.unique(df_mv[\"Day\"]) ]\n",
    "        with Pool(max_pool) as p:\n",
    "            pool_outputs = list(tqdm(\n",
    "                    p.imap(calculate_moving_pairs,\n",
    "                           args_list),\n",
    "                total=len(args_list),\n",
    "                position=0, leave=True,  desc=file,\n",
    "            )\n",
    "            )\n",
    "        p.join()\n",
    "        \n",
    "        bins_dict = {\"Day\": [], \"Date\": [], \"Bins\": [], \"N11\": [], \"N10\": [], \"gamma\": []}\n",
    "\n",
    "        for i, output in enumerate(pool_outputs):\n",
    "            bins_dict[\"Day\"].append( [int(i)] * len(bins))\n",
    "            bins_dict[\"Date\"].append([df_mv[df_mv[\"Day\"]==i][\"Date\"].iloc[0]] * len(bins))\n",
    "            bins_dict[\"Bins\"].append(bins)\n",
    "            bins_dict[\"N11\"].append(output[0])\n",
    "            bins_dict[\"N10\"].append(output[1])\n",
    "            bins_dict[\"gamma\"].append(calc_ratio_gamma(output[0],output[1]))\n",
    "\n",
    "        out_dict = {}\n",
    "        for keys in bins_dict.keys():\n",
    "            out_dict[keys] = np.concatenate(bins_dict[keys])\n",
    "        df_bins =  pd.DataFrame.from_dict(out_dict)\n",
    "        df_bins.to_csv(file.replace(\"station\",\"pair_bins\"))\n",
    "        \n",
    "        clear_output(wait=True)"
   ]
  },
  {
   "cell_type": "code",
   "execution_count": null,
   "id": "78792fce-f8af-4cac-9d06-bedd82e8c3ba",
   "metadata": {},
   "outputs": [],
   "source": []
  }
 ],
 "metadata": {
  "kernelspec": {
   "display_name": "Python [conda env:myenv]",
   "language": "python",
   "name": "conda-env-myenv-py"
  },
  "language_info": {
   "codemirror_mode": {
    "name": "ipython",
    "version": 3
   },
   "file_extension": ".py",
   "mimetype": "text/x-python",
   "name": "python",
   "nbconvert_exporter": "python",
   "pygments_lexer": "ipython3",
   "version": "3.9.7"
  }
 },
 "nbformat": 4,
 "nbformat_minor": 5
}
