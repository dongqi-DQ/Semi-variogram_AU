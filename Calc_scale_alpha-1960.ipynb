{
 "cells": [
  {
   "cell_type": "code",
   "execution_count": 1,
   "id": "436a4297-9a1d-4861-bd56-189e18222dfa",
   "metadata": {},
   "outputs": [],
   "source": [
    "import gstools as gs\n",
    "from gstools import CovModel\n",
    "import numpy as np\n",
    "from IPython.display import clear_output\n",
    "import pandas as pd\n",
    "\n",
    "from tqdm import tqdm\n",
    "import xarray as xr\n",
    "from glob import glob\n",
    "from multiprocess import Pool\n",
    "\n",
    "from scipy.optimize import curve_fit\n",
    "import os \n",
    "os.chdir(\"/g/data/k10/dl6968/Semi-variogram_AU/\")"
   ]
  },
  {
   "cell_type": "code",
   "execution_count": 2,
   "id": "c64f7ef2-f5ea-4d59-bad7-034f11afbfe5",
   "metadata": {},
   "outputs": [],
   "source": [
    "class Stab(CovModel):\n",
    "    def variogram(self, r):\n",
    "        \n",
    "        return self.nugget + self.sill * (1 - np.exp(-(3 * r) / self.len_scale))\n",
    "\n",
    "\n",
    "# Define the piecewise function\n",
    "def custom_curve(h, c, b, alpha):\n",
    "    if np.isscalar(h):\n",
    "        # Handle the scalar case\n",
    "        if h == 0:\n",
    "            return 0\n",
    "        else:\n",
    "            return c + b * (1 - np.exp(-3 * h / alpha))\n",
    "    else:\n",
    "        # Handle array inputs\n",
    "        return np.where(h == 0, 0, c + b * (1 - np.exp(-3 * h / alpha)))\n",
    "\n",
    "def fit_sci_curve(h_values, y_values,bins):\n",
    "\n",
    "    # Use curve_fit to fit the custom function to the data\n",
    "    # Initial guess for c, b, and alpha\n",
    "    initial_guess = [0.025, 0.5, 5]  \n",
    "    \n",
    "    # Perform the curve fitting\n",
    "    params, covariance = curve_fit(custom_curve, h_values, y_values, p0=initial_guess)\n",
    "    \n",
    "    # Extract the fitted parameters\n",
    "    c_fitted, b_fitted, alpha_fitted = params\n",
    "    \n",
    "    y_fit = custom_curve(bins, c_fitted, b_fitted, alpha_fitted)\n",
    "    return y_fit, alpha_fitted"
   ]
  },
  {
   "cell_type": "code",
   "execution_count": 3,
   "id": "e4e118f1-c260-4a27-ac88-b1f1263a1708",
   "metadata": {},
   "outputs": [],
   "source": [
    "def calc_alpha(gamma_fit,bins_fit,bins):\n",
    "    y_fit = np.zeros_like(bins)\n",
    "    scale = 0\n",
    "    try:\n",
    "        fit_model = Stab(dim=2)  # Choose model type (Exponential, Spherical, Gaussian, etc.)\n",
    "        _ = fit_model.fit_variogram(bins_fit, gamma_fit, nugget=0.025,sill=0.5-0.025)#)#\n",
    "        y_fit = fit_model.variogram(bins)\n",
    "        scale = fit_model.len_scale\n",
    "        \n",
    "    except RuntimeError:\n",
    "        ## in case the variogram fit did not work\n",
    "        ## this is usually a very small case\n",
    "        ## mark it with -1 for later\n",
    "        y_fit = np.zeros_like(bins)\n",
    "        scale = -1\n",
    "    return y_fit, scale"
   ]
  },
  {
   "cell_type": "code",
   "execution_count": 4,
   "id": "b7f239d6-1191-4a9f-8416-950c5193c3a5",
   "metadata": {},
   "outputs": [],
   "source": [
    "def gamma_to_alpha(args):\n",
    "    N11, N10, gamma, bins = args\n",
    "    gamma_fit = gamma.copy()\n",
    "    bins_fit = bins.copy().astype(float)\n",
    "    gamma_fit[N11+N10<=2] = np.nan\n",
    "    bins_fit[N11+N10<=2] = np.nan\n",
    "    \n",
    "    ## remove NaNs \n",
    "    gamma_fit1 = gamma_fit[~np.isnan(gamma_fit)]\n",
    "    bins_fit1 = bins_fit[~np.isnan(bins_fit)]\n",
    "    \n",
    "    ## in case all NaNs occured\n",
    "    if len(gamma_fit1)<=2:\n",
    "        y_fit = np.zeros_like(bins)\n",
    "        scale = 0\n",
    "    else:\n",
    "        ## make sure this starts with zeros\n",
    "        # gamma_fit1 = np.append(0, gamma_fit1)\n",
    "        # bins_fit1 = np.append(0, bins_fit1)\n",
    "        y_fit, scale = calc_alpha(gamma_fit1, bins_fit1, bins)\n",
    "   \n",
    "    return y_fit, scale"
   ]
  },
  {
   "cell_type": "code",
   "execution_count": 13,
   "id": "c27ed9e4-27ab-4beb-a62e-423b9b00f1fe",
   "metadata": {},
   "outputs": [],
   "source": [
    "files = sorted(glob(\"./data/seasonal_p90_500km_1960/*pair_bins*.csv\"))"
   ]
  },
  {
   "cell_type": "code",
   "execution_count": 15,
   "id": "fd3554a6-b71c-473c-b05d-b6292121834f",
   "metadata": {},
   "outputs": [
    {
     "name": "stderr",
     "output_type": "stream",
     "text": [
      "100%|██████████| 2078/2078 [43:21<00:00,  1.25s/it]\n"
     ]
    }
   ],
   "source": [
    "for file in tqdm(files, position=0, leave=True):\n",
    "    if not os.path.exists(file.replace(\"bins\",\"scale_spherical\")):\n",
    "        df_bins = pd.read_csv(file, usecols=lambda col: not col.startswith(\"Unnamed\"))\n",
    "        # df_bins = df_bins[df_bins[\"Bins\"]<=501].reset_index()\n",
    "        args_list = [(df_bins[df_bins[\"Day\"]==day][\"N11\"].values,df_bins[df_bins[\"Day\"]==day][\"N10\"].values,\n",
    "                  df_bins[df_bins[\"Day\"]==day][\"gamma\"].values,df_bins[df_bins[\"Day\"]==day][\"Bins\"].values,) for day in np.unique(df_bins[\"Day\"])]\n",
    "        ## multi-processing the extreme days\n",
    "        max_pool =28\n",
    "        with Pool(max_pool) as p:\n",
    "            pool_outputs = list(\n",
    "                    p.imap(gamma_to_alpha,\n",
    "                           args_list),\n",
    "            )\n",
    "        p.join()\n",
    "        ## save output\n",
    "        y_fit_list = []\n",
    "        scale_list = []\n",
    "        for output in pool_outputs:\n",
    "            y_fit_list.append(output[0])\n",
    "            scale_list.append(output[1])\n",
    "        ## save to csv\n",
    "        df_bins[\"y_fit\"] = np.concatenate(y_fit_list)\n",
    "        df_bins.to_csv(file)\n",
    "        scale_dict = {\"extreme_dates\": np.unique(df_bins[\"Date\"]), \"scale\": scale_list}\n",
    "        df_scale = pd.DataFrame.from_dict(scale_dict)\n",
    "        df_scale.to_csv(file.replace(\"bins\",\"scale_spherical\"))\n",
    "        \n",
    "        clear_output(wait=True)"
   ]
  },
  {
   "cell_type": "code",
   "execution_count": null,
   "id": "2cad130f-133d-48de-a118-1c7692c1d441",
   "metadata": {},
   "outputs": [],
   "source": []
  },
  {
   "cell_type": "markdown",
   "id": "3e1d74fd-2771-405f-8a1b-1c9262d6126b",
   "metadata": {},
   "source": [
    "removed 49084, 78046, 78047"
   ]
  }
 ],
 "metadata": {
  "kernelspec": {
   "display_name": "Python [conda env:myenv]",
   "language": "python",
   "name": "conda-env-myenv-py"
  },
  "language_info": {
   "codemirror_mode": {
    "name": "ipython",
    "version": 3
   },
   "file_extension": ".py",
   "mimetype": "text/x-python",
   "name": "python",
   "nbconvert_exporter": "python",
   "pygments_lexer": "ipython3",
   "version": "3.9.7"
  }
 },
 "nbformat": 4,
 "nbformat_minor": 5
}
