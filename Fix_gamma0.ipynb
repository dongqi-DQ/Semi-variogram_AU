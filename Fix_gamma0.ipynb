{
 "cells": [
  {
   "cell_type": "code",
   "execution_count": 1,
   "id": "5cdd95f1-6e35-4397-b1a5-4b5bb3c227c2",
   "metadata": {},
   "outputs": [],
   "source": [
    "import xarray as xr\n",
    "import numpy as np\n",
    "import os\n",
    "from glob import glob\n",
    "from tqdm import tqdm\n",
    "import pandas as pd\n",
    "from geopy.distance import geodesic \n",
    "import math\n",
    "from sklearn.metrics.pairwise import haversine_distances\n",
    "from math import radians\n",
    "from multiprocess import Pool\n",
    "import warnings"
   ]
  },
  {
   "cell_type": "code",
   "execution_count": 2,
   "id": "b7a28fad-8e01-4e66-9c26-0ae5a434290f",
   "metadata": {},
   "outputs": [],
   "source": [
    "from gstools import CovModel\n",
    "\n",
    "class Stab(CovModel):\n",
    "    def variogram(self, r):\n",
    "        \n",
    "        return self.nugget + self.sill * (1 - np.exp(-(3 * r) / self.len_scale))"
   ]
  },
  {
   "cell_type": "code",
   "execution_count": 3,
   "id": "1fc08ef1-345c-4020-b488-680920698e1e",
   "metadata": {},
   "outputs": [],
   "source": [
    "from scipy.optimize import curve_fit\n",
    "\n",
    "# Define the piecewise function\n",
    "def custom_curve(h, c, b, alpha):\n",
    "    if np.isscalar(h):\n",
    "        # Handle the scalar case\n",
    "        if h == 0:\n",
    "            return 0\n",
    "        else:\n",
    "            return c + b * (1 - np.exp(-3 * h / alpha))\n",
    "    else:\n",
    "        # Handle array inputs\n",
    "        return np.where(h == 0, 0, c + b * (1 - np.exp(-3 * h / alpha)))\n",
    "\n",
    "def fit_sci_curve(h_values, y_values,bins):\n",
    "\n",
    "    # Use curve_fit to fit the custom function to the data\n",
    "    # Initial guess for c, b, and alpha\n",
    "    initial_guess = [0, 0.5, 5]  \n",
    "    \n",
    "    # Perform the curve fitting\n",
    "    params, covariance = curve_fit(custom_curve, h_values, y_values, p0=initial_guess)\n",
    "    \n",
    "    # Extract the fitted parameters\n",
    "    c_fitted, b_fitted, alpha_fitted = params\n",
    "    \n",
    "    y_fit = custom_curve(bins, c_fitted, b_fitted, alpha_fitted)\n",
    "    return y_fit, alpha_fitted"
   ]
  },
  {
   "cell_type": "code",
   "execution_count": 10,
   "id": "c7eb6eaf-cb70-4bcc-b34c-7ea937db6bef",
   "metadata": {},
   "outputs": [],
   "source": [
    "def calc_ratio_gamma(N11,N10):\n",
    "    with warnings.catch_warnings():\n",
    "        warnings.filterwarnings(\"ignore\", category=RuntimeWarning)\n",
    "        ratio = np.where(N10 + N11 != 0, 0.5 * (N10 / (N10 + N11)), np.nan)\n",
    "    return ratio"
   ]
  },
  {
   "cell_type": "code",
   "execution_count": 47,
   "id": "a790133d-2b33-4a4b-a1f3-2910662a01dd",
   "metadata": {},
   "outputs": [],
   "source": [
    "def calc_alpha(gamma_fit,bins_fit,bins):\n",
    "    # gamma_fit = gamma[~np.isnan(gamma)]\n",
    "    # bins_fit = bins[~np.isnan(bins)]\n",
    "    y_fit = 0\n",
    "    scale = 0\n",
    "    try:\n",
    "        _ = fit_model.fit_variogram(bins_fit, gamma_fit,  nugget=0, sill=0.5)#)#\n",
    "        y_fit = fit_model.variogram(bins)\n",
    "        scale = fit_model.len_scale\n",
    "    except RuntimeError:\n",
    "        try: \n",
    "            ## adjust the cape a little bit so the code can pass through\n",
    "            _ = fit_model.fit_variogram(bins_fit, gamma_fit,  nugget=0, sill=0.51)#)#\n",
    "            y_fit = fit_model.variogram(bins)\n",
    "            scale = fit_model.len_scale\n",
    "        except RuntimeError:\n",
    "            y_fit,alpha = fit_sci_curve(bins_fit,gamma_fit,bins)\n",
    "            # no_fit_days.append(days)\n",
    "            scale = alpha\n",
    "    return y_fit, scale"
   ]
  },
  {
   "cell_type": "code",
   "execution_count": 34,
   "id": "d4016e60-e710-4adc-bfb3-4b93a544002a",
   "metadata": {},
   "outputs": [],
   "source": [
    "\n",
    "def calc_pair_alpha(gamma, N11, N10): \n",
    "    gamma_fit = gamma.copy()\n",
    "    bins_fit = bins.copy().astype(float)\n",
    "    gamma_fit[N11+N10<=2] = np.nan\n",
    "    bins_fit[N11+N10<=2] = np.nan\n",
    "    ## make sure start with zeros\n",
    "    # gamma_fit[0] = 0\n",
    "    # bins_fit[0] =0\n",
    "    ## remove NaNs \n",
    "    gamma_fit1 = gamma_fit[~np.isnan(gamma_fit)]\n",
    "    bins_fit1 = bins_fit[~np.isnan(bins_fit)]\n",
    "    ## in case all NaNs occured\n",
    "    if len(gamma_fit1)<=2:\n",
    "        y_fit = np.zeros_like(bins)\n",
    "        scale = 0\n",
    "    else:\n",
    "        y_fit, scale = calc_alpha(gamma_fit1, bins_fit1, bins)\n",
    "\n",
    "    return y_fit, scale"
   ]
  },
  {
   "cell_type": "code",
   "execution_count": 7,
   "id": "bbb05de6-baec-4d8a-9de1-49a2a1bc6792",
   "metadata": {},
   "outputs": [],
   "source": [
    "## my own directory\n",
    "os.chdir(\"/g/data/k10/dl6968/Semi-variogram_AU/\")\n"
   ]
  },
  {
   "cell_type": "code",
   "execution_count": 8,
   "id": "6ddf317a-6b5c-4189-929c-03141577334e",
   "metadata": {},
   "outputs": [],
   "source": [
    "fit_model = Stab(dim=2)#gs.Stable(dim=1)\n"
   ]
  },
  {
   "cell_type": "code",
   "execution_count": 9,
   "id": "60056765-87c1-4155-b3c2-2dbb4f67a4c6",
   "metadata": {},
   "outputs": [],
   "source": [
    "# Define distance bins\n",
    "bins = np.arange(5, 360, 10)\n"
   ]
  },
  {
   "cell_type": "code",
   "execution_count": 43,
   "id": "f2f60d32-4518-4fc2-92fc-f80e0aa2b77f",
   "metadata": {},
   "outputs": [],
   "source": [
    "files = sorted(glob(\"./data/all_AU_p90/*_pair_bins_list_all_events.csv\"))"
   ]
  },
  {
   "cell_type": "code",
   "execution_count": 44,
   "id": "b59d59a0-52f5-41d9-b07f-f63f5a0920a2",
   "metadata": {},
   "outputs": [],
   "source": [
    "def fix_gamma(file):\n",
    "    df_bins = pd.read_csv(file)\n",
    "    df_scale = pd.read_csv(file.replace(\"bins\",\"scale\"))\n",
    "    df_bins.loc[:,\"gamma\"] = calc_ratio_gamma(df_bins[\"N11\"].values,df_bins[\"N10\"].values)\n",
    "    y_fit_list = []\n",
    "    scale_list = []\n",
    "    for days in np.unique(df_bins[\"Day\"]):\n",
    "        gamma = df_bins[df_bins[\"Day\"]==days][\"gamma\"].values\n",
    "        N11 = df_bins[df_bins[\"Day\"]==days][\"N11\"].values\n",
    "        N10 = df_bins[df_bins[\"Day\"]==days][\"N10\"].values\n",
    "        y_fit, scale = calc_pair_alpha(gamma, N11, N10)\n",
    "        y_fit_list.append(y_fit)\n",
    "        scale_list.append(scale)\n",
    "\n",
    "    df_bins.loc[:,\"y_fit\"] = np.concatenate(y_fit_list)\n",
    "    df_scale.loc[:,\"scale\"] = scale_list\n",
    "    \n",
    "    df_bins.to_csv(file)\n",
    "    df_scale.to_csv(file.replace(\"bins\",\"scale\"))"
   ]
  },
  {
   "cell_type": "code",
   "execution_count": 48,
   "id": "60818775-2947-411c-a816-e13e8cb208e0",
   "metadata": {},
   "outputs": [
    {
     "name": "stderr",
     "output_type": "stream",
     "text": [
      " 19%|█▉        | 1846/9841 [03:47<09:34, 13.92it/s]  /home/565/dl6968/miniconda3/envs/myenv/lib/python3.9/site-packages/scipy/optimize/_minpack_py.py:1010: OptimizeWarning: Covariance of the parameters could not be estimated\n",
      "  warnings.warn('Covariance of the parameters could not be estimated',\n",
      "100%|██████████| 9841/9841 [26:49<00:00,  6.11it/s]\n"
     ]
    }
   ],
   "source": [
    "max_pool = 28\n",
    "with Pool(max_pool) as p:\n",
    "    pool_outputs = list(\n",
    "        tqdm(\n",
    "            p.imap(fix_gamma,\n",
    "                   files),\n",
    "            total=len(files),\n",
    "            position=0, leave=True\n",
    "        )\n",
    "    )\n",
    "p.join()"
   ]
  },
  {
   "cell_type": "code",
   "execution_count": null,
   "id": "f33e84ba-6538-4f4a-9b86-9141785d4ec6",
   "metadata": {},
   "outputs": [],
   "source": []
  }
 ],
 "metadata": {
  "kernelspec": {
   "display_name": "Python [conda env:root] *",
   "language": "python",
   "name": "conda-root-py"
  },
  "language_info": {
   "codemirror_mode": {
    "name": "ipython",
    "version": 3
   },
   "file_extension": ".py",
   "mimetype": "text/x-python",
   "name": "python",
   "nbconvert_exporter": "python",
   "pygments_lexer": "ipython3",
   "version": "3.9.7"
  }
 },
 "nbformat": 4,
 "nbformat_minor": 5
}
