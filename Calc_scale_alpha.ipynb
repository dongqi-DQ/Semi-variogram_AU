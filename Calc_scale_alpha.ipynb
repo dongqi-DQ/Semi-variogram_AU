{
 "cells": [
  {
   "cell_type": "code",
   "execution_count": 1,
   "id": "436a4297-9a1d-4861-bd56-189e18222dfa",
   "metadata": {},
   "outputs": [],
   "source": [
    "import gstools as gs\n",
    "import numpy as np\n",
    "\n",
    "import pandas as pd\n",
    "\n",
    "from tqdm import tqdm\n",
    "import xarray as xr\n",
    "from glob import glob\n",
    "from multiprocess import Pool\n",
    "import os \n",
    "os.chdir(\"/g/data/k10/dl6968/Semi-variogram_AU/\")"
   ]
  },
  {
   "cell_type": "code",
   "execution_count": 2,
   "id": "97bd45f3-ee0b-4d72-bac9-7b7bdd254f8d",
   "metadata": {},
   "outputs": [],
   "source": [
    "from gstools import CovModel\n",
    "\n",
    "class Stab(CovModel):\n",
    "    def variogram(self, r):\n",
    "        \n",
    "        return self.nugget + self.sill * (1 - np.exp(-(3 * r) / self.len_scale))"
   ]
  },
  {
   "cell_type": "code",
   "execution_count": 3,
   "id": "315cb49d-12c2-4453-b971-5a1e181d8016",
   "metadata": {},
   "outputs": [],
   "source": [
    "from scipy.optimize import curve_fit\n",
    "\n",
    "# Define the piecewise function\n",
    "def custom_curve(h, c, b, alpha):\n",
    "    if np.isscalar(h):\n",
    "        # Handle the scalar case\n",
    "        if h == 0:\n",
    "            return 0\n",
    "        else:\n",
    "            return c + b * (1 - np.exp(-3 * h / alpha))\n",
    "    else:\n",
    "        # Handle array inputs\n",
    "        return np.where(h == 0, 0, c + b * (1 - np.exp(-3 * h / alpha)))\n",
    "\n",
    "def fit_sci_curve(h_values, y_values,bins):\n",
    "\n",
    "    # Use curve_fit to fit the custom function to the data\n",
    "    # Initial guess for c, b, and alpha\n",
    "    initial_guess = [0, 0.5, 5]  \n",
    "    \n",
    "    # Perform the curve fitting\n",
    "    params, covariance = curve_fit(custom_curve, h_values, y_values, p0=initial_guess)\n",
    "    \n",
    "    # Extract the fitted parameters\n",
    "    c_fitted, b_fitted, alpha_fitted = params\n",
    "    \n",
    "    y_fit = custom_curve(bins, c_fitted, b_fitted, alpha_fitted)\n",
    "    return y_fit, alpha_fitted"
   ]
  },
  {
   "cell_type": "code",
   "execution_count": 4,
   "id": "ca3207e2-ff53-4f22-8bb4-ac50345c3bdb",
   "metadata": {},
   "outputs": [],
   "source": [
    "fit_model = Stab(dim=2)\n"
   ]
  },
  {
   "cell_type": "code",
   "execution_count": 5,
   "id": "086297c7-8f7e-4cba-a5d5-3ebffbdbc462",
   "metadata": {},
   "outputs": [],
   "source": [
    "\n",
    "def generate_scale_file(bins_file):\n",
    "    df_bins = pd.read_csv(bins_file)\n",
    "    df_stations = pd.read_csv(bins_file.replace(\"bins\", \"station\"))\n",
    "    bins = np.arange(5, 360, 10)#df_bins[\"Bins\"][df_bins[\"Day\"]==0]\n",
    "\n",
    "    y_fit_arr = np.zeros((df_bins[\"Day\"].max()+1, len(bins)))\n",
    "    scale_arr =  np.zeros(df_bins[\"Day\"].max()+1)\n",
    "    no_fit_days = []\n",
    "    # fit_model = Stab(dim=3)#gs.Stable(dim=1)\n",
    "    for days in range(0, df_bins[\"Day\"].max()+1): # df_bins[\"Day\"].max()+1\n",
    "        bins = df_bins[\"Bins\"][df_bins[\"Day\"]==days]\n",
    "        gamma = df_bins[\"gamma\"][df_bins[\"Day\"]==days]\n",
    "        N11 = df_bins[\"N11\"][df_bins[\"Day\"]==days].values\n",
    "        N10 = df_bins[\"N10\"][df_bins[\"Day\"]==days].values\n",
    "        \n",
    "        gamma_fit1 = gamma.values\n",
    "        bins_fit1 = bins.values.astype(float)\n",
    "        ## don't analyse if not more than two stations are in one bin\n",
    "        gamma_fit1[N11+N10<=2] = np.nan\n",
    "        bins_fit1[N11+N10<=2] = np.nan\n",
    "        ## make sure start with zeros\n",
    "        gamma_fit1[0] = 0\n",
    "        bins_fit1[0] =0\n",
    "        ## remove NaNs \n",
    "        gamma_fit = gamma_fit1[~np.isnan(gamma_fit1)]\n",
    "        bins_fit = bins_fit1[~np.isnan(bins_fit1)]\n",
    "        \n",
    "        if len(gamma[gamma>0])==0:\n",
    "            y_fit_arr[days,:] = 0.5\n",
    "            continue\n",
    "\n",
    "        try:\n",
    "            _ = fit_model.fit_variogram(bins_fit, gamma_fit,  nugget=0, sill=0.50)#)#\n",
    "            y_fit = fit_model.variogram(bins.values)\n",
    "            scale_arr[days] = fit_model.len_scale\n",
    "\n",
    "        except RuntimeError:\n",
    "\n",
    "            try: \n",
    "                ## adjust the cape a little bit so the code can pass through\n",
    "                _ = fit_model.fit_variogram(bins_fit, gamma_fit,  nugget=0, sill=0.51)#)#\n",
    "                y_fit = fit_model.variogram(bins.values)\n",
    "                scale_arr[days] = fit_model.len_scale\n",
    "            except RuntimeError:\n",
    "                y_fit,alpha = fit_sci_curve(bins_fit,gamma_fit,bins.values)\n",
    "                no_fit_days.append(days)\n",
    "                scale_arr[days] = alpha\n",
    "\n",
    "        y_fit_arr[days,:] = y_fit\n",
    "    scale_dict = {\"extreme_dates\": np.unique(df_bins[\"Date\"]), \"scale\": scale_arr}\n",
    "\n",
    "\n",
    "    df_scale = pd.DataFrame.from_dict(scale_dict)\n",
    "    df_scale.to_csv(bins_file.replace(\"bins\",\"scale\"))"
   ]
  },
  {
   "cell_type": "code",
   "execution_count": 6,
   "id": "c27ed9e4-27ab-4beb-a62e-423b9b00f1fe",
   "metadata": {},
   "outputs": [],
   "source": [
    "files = sorted(glob(\"./data/all_AU_p90/*_bins_list_all_events.csv\"))"
   ]
  },
  {
   "cell_type": "code",
   "execution_count": 7,
   "id": "cb0d87e8-4ae5-4a7d-843a-10a9b72811a7",
   "metadata": {},
   "outputs": [
    {
     "name": "stderr",
     "output_type": "stream",
     "text": [
      "100%|██████████| 2/2 [00:12<00:00,  6.01s/it]\n"
     ]
    }
   ],
   "source": [
    "max_pool = 14\n",
    "with Pool(max_pool) as p:\n",
    "    pool_outputs = list(\n",
    "        tqdm(\n",
    "            p.imap(generate_scale_file,\n",
    "                   files),\n",
    "            total=len(files),\n",
    "            position=0, leave=True\n",
    "        )\n",
    "    )\n",
    "p.join()"
   ]
  },
  {
   "cell_type": "markdown",
   "id": "3e1d74fd-2771-405f-8a1b-1c9262d6126b",
   "metadata": {},
   "source": [
    "removed 49084, 78046, 78047"
   ]
  }
 ],
 "metadata": {
  "kernelspec": {
   "display_name": "Python [conda env:myenv]",
   "language": "python",
   "name": "conda-env-myenv-py"
  },
  "language_info": {
   "codemirror_mode": {
    "name": "ipython",
    "version": 3
   },
   "file_extension": ".py",
   "mimetype": "text/x-python",
   "name": "python",
   "nbconvert_exporter": "python",
   "pygments_lexer": "ipython3",
   "version": "3.9.7"
  }
 },
 "nbformat": 4,
 "nbformat_minor": 5
}
