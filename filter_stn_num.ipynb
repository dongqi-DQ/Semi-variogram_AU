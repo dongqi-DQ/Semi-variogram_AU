{
 "cells": [
  {
   "cell_type": "code",
   "execution_count": 1,
   "id": "0a613dea-7076-4489-b0dc-df55b6a54f14",
   "metadata": {},
   "outputs": [],
   "source": [
    "import pandas as pd\n",
    "import numpy as np\n",
    "from glob import glob\n",
    "from tqdm import tqdm\n",
    "import os\n",
    "os.chdir(\"/g/data/k10/dl6968/Semi-variogram_AU/\")"
   ]
  },
  {
   "cell_type": "code",
   "execution_count": 7,
   "id": "f80354c0-6324-48b1-9323-6aa24bebf9d0",
   "metadata": {},
   "outputs": [],
   "source": [
    "bin_files = sorted(glob(\"/scratch/k10/dl6968/all_AU_p90_500km/*_pair_bins_moving_list_all_events.csv\"))\n",
    "stn_files = sorted(glob(\"/scratch/k10/dl6968/all_AU_p90_500km/*_station_moving_list_all_events.csv\"))"
   ]
  },
  {
   "cell_type": "code",
   "execution_count": 17,
   "id": "5056de44-ce4f-4830-a9a0-bab7709e76b7",
   "metadata": {},
   "outputs": [],
   "source": [
    "file = \"./data/all_AU_p90_500km/29052_pair_bins_moving_list_all_events.csv\"\n",
    "stn_file = \"./data/all_AU_p90_500km/29052_station_moving_list_all_events.csv\"\n",
    "df_stn = pd.read_csv(stn_file, index_col=0)\n",
    "df_bins = pd.read_csv(file, usecols=lambda col: not col.startswith(\"Unnamed\"))\n",
    "\n",
    "\n",
    "for dates in np.unique(df_bins[\"Date\"]):\n",
    "    neib_in = len(df_stn[(df_stn[\"Date\"]==dates) & (df_stn[\"distance\"]<=500)])\n",
    "    neib_extreme = len(df_stn[(df_stn[\"Date\"]==dates) & (df_stn[\"distance\"]<=500)& (df_stn[\"flag\"]>0)])\n",
    "    if neib_extreme/neib_in>=0.1:\n",
    "        continue\n",
    "    else:\n",
    "        df_bins.loc[df_bins[\"Date\"] == dates, \"y_fit\"] = 0"
   ]
  },
  {
   "cell_type": "code",
   "execution_count": null,
   "id": "690b0591-b53f-4763-a77f-eaff0c927816",
   "metadata": {},
   "outputs": [],
   "source": []
  }
 ],
 "metadata": {
  "kernelspec": {
   "display_name": "Python [conda env:myenv]",
   "language": "python",
   "name": "conda-env-myenv-py"
  },
  "language_info": {
   "codemirror_mode": {
    "name": "ipython",
    "version": 3
   },
   "file_extension": ".py",
   "mimetype": "text/x-python",
   "name": "python",
   "nbconvert_exporter": "python",
   "pygments_lexer": "ipython3",
   "version": "3.9.7"
  }
 },
 "nbformat": 4,
 "nbformat_minor": 5
}
