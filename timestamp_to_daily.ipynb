{
 "cells": [
  {
   "cell_type": "code",
   "execution_count": 18,
   "id": "67313a1d-e2ee-44a6-9876-a154e3885eb7",
   "metadata": {},
   "outputs": [],
   "source": [
    "import xarray as xr\n",
    "from glob import glob\n",
    "from multiprocess import Pool\n",
    "from tqdm import tqdm\n",
    "import os"
   ]
  },
  {
   "cell_type": "code",
   "execution_count": 12,
   "id": "5f292ad8-e085-4a24-98eb-84565fdfec80",
   "metadata": {},
   "outputs": [],
   "source": [
    "inpath = \"/g/data/w40/dl6968/BoM_daily_stations/percentiles/\"\n",
    "outpath = \"/g/data/k10/dl6968/BoM_daily_station/prcp_pc_ts/\"\n",
    "\n",
    "files = sorted(glob(f\"{inpath}*\"))"
   ]
  },
  {
   "cell_type": "code",
   "execution_count": 15,
   "id": "5cf4fb9c-e885-48cb-a7dd-0626be560ad9",
   "metadata": {},
   "outputs": [],
   "source": [
    "def timestamp_daily(file):\n",
    "    if not os.path.exists(file.replace(inpath,outpath)):\n",
    "        with xr.open_dataset(file) as ds:\n",
    "            ds_daily = ds.resample(time=\"D\").mean()\n",
    "            ds_daily.to_netcdf(file.replace(inpath,outpath))"
   ]
  },
  {
   "cell_type": "code",
   "execution_count": null,
   "id": "94610986-f5a5-4523-892b-497d0ae74d6f",
   "metadata": {},
   "outputs": [
    {
     "name": "stderr",
     "output_type": "stream",
     "text": [
      "  8%|▊         | 1338/16328 [27:57<5:34:24,  1.34s/it] "
     ]
    }
   ],
   "source": [
    "max_pool = 28\n",
    "with Pool(max_pool) as p:\n",
    "    pool_outputs = list(\n",
    "        tqdm(\n",
    "            p.imap(timestamp_daily,\n",
    "                   files[1500:]),\n",
    "            total=len(files[1500:]),\n",
    "            position=0, leave=True\n",
    "        )\n",
    "    )\n",
    "    p.join()"
   ]
  },
  {
   "cell_type": "code",
   "execution_count": null,
   "id": "df31be81-39f2-4486-a9d4-23ec90b77d14",
   "metadata": {},
   "outputs": [],
   "source": []
  }
 ],
 "metadata": {
  "kernelspec": {
   "display_name": "Python [conda env:myenv]",
   "language": "python",
   "name": "conda-env-myenv-py"
  },
  "language_info": {
   "codemirror_mode": {
    "name": "ipython",
    "version": 3
   },
   "file_extension": ".py",
   "mimetype": "text/x-python",
   "name": "python",
   "nbconvert_exporter": "python",
   "pygments_lexer": "ipython3",
   "version": "3.9.7"
  }
 },
 "nbformat": 4,
 "nbformat_minor": 5
}
